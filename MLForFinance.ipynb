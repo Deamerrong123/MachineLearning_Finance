{
 "cells": [
  {
   "cell_type": "markdown",
   "metadata": {},
   "source": [
    "## Unsupervised Learning\n",
    "Our goal is to construct a unsupervised model for indecating two independent stocks; the indicator would be including price or volume.\n",
    "<tb>\n"
   ]
  },
  {
   "cell_type": "markdown",
   "metadata": {},
   "source": [
    "### 1. Importing Data\n",
    "- 'quantmod' is quantitative financial Modeling and trading frameword for R\n",
    "- We will use 'quantmod' package and getSymbols(##, from='yyyy-mm-dd') for importing data from google finance.\n",
    "- Initially, we are going to download the historical data of Apple.inc's from 2010-01-01.\n",
    "\n",
    "\n"
   ]
  },
  {
   "cell_type": "code",
   "execution_count": 6,
   "metadata": {},
   "outputs": [
    {
     "data": {
      "text/html": [
       "'AAPL'"
      ],
      "text/latex": [
       "'AAPL'"
      ],
      "text/markdown": [
       "'AAPL'"
      ],
      "text/plain": [
       "[1] \"AAPL\""
      ]
     },
     "metadata": {},
     "output_type": "display_data"
    }
   ],
   "source": [
    "library(quantmod)\n",
    "getSymbols(\"AAPL\", from='2010-01-01')"
   ]
  },
  {
   "cell_type": "markdown",
   "metadata": {},
   "source": [
    "let's take a look and understand about the data."
   ]
  },
  {
   "cell_type": "code",
   "execution_count": 7,
   "metadata": {},
   "outputs": [
    {
     "data": {
      "text/plain": [
       "     Index              AAPL.Open        AAPL.High         AAPL.Low     \n",
       " Min.   :2010-01-04   Min.   : 27.48   Min.   : 28.00   Min.   : 27.18  \n",
       " 1st Qu.:2012-06-07   1st Qu.: 64.09   1st Qu.: 64.77   1st Qu.: 63.23  \n",
       " Median :2014-11-12   Median : 97.82   Median : 98.86   Median : 96.81  \n",
       " Mean   :2014-11-14   Mean   :106.41   Mean   :107.36   Mean   :105.43  \n",
       " 3rd Qu.:2017-04-20   3rd Qu.:143.69   3rd Qu.:144.44   3rd Qu.:142.90  \n",
       " Max.   :2019-09-26   Max.   :230.78   Max.   :233.47   Max.   :229.78  \n",
       "   AAPL.Close      AAPL.Volume        AAPL.Adjusted   \n",
       " Min.   : 27.44   Min.   : 11362000   Min.   : 23.94  \n",
       " 1st Qu.: 64.01   1st Qu.: 32125950   1st Qu.: 56.67  \n",
       " Median : 97.67   Median : 57172400   Median : 91.00  \n",
       " Mean   :106.42   Mean   : 76219964   Mean   :100.27  \n",
       " 3rd Qu.:143.66   3rd Qu.:103996550   3rd Qu.:138.28  \n",
       " Max.   :232.07   Max.   :470249500   Max.   :228.52  "
      ]
     },
     "metadata": {},
     "output_type": "display_data"
    }
   ],
   "source": [
    "summary(AAPL)"
   ]
  },
  {
   "cell_type": "markdown",
   "metadata": {},
   "source": [
    "- As we see, we will get use of AAPL.Adjusted, the adjusted historical pricing from 2010-01-04. And AAPL.Volume will be used for later investigation.\n",
    "\n",
    "\n",
    "- Then, we need to consider some other stocks that they might not share so similar feature in their business.\n",
    "- To see the relation between AAPL's history price and some other not so correlated stocks' history price, i.e. _MCD_, _M_,_COST_,_BAC_.\n",
    "- note we just want to see those data start from 2010 to recents\n",
    "- note we need to awaked with using adjusted pricing."
   ]
  },
  {
   "cell_type": "code",
   "execution_count": 9,
   "metadata": {},
   "outputs": [
    {
     "data": {
      "text/html": [
       "'MCD'"
      ],
      "text/latex": [
       "'MCD'"
      ],
      "text/markdown": [
       "'MCD'"
      ],
      "text/plain": [
       "[1] \"MCD\""
      ]
     },
     "metadata": {},
     "output_type": "display_data"
    },
    {
     "data": {
      "text/html": [
       "'M'"
      ],
      "text/latex": [
       "'M'"
      ],
      "text/markdown": [
       "'M'"
      ],
      "text/plain": [
       "[1] \"M\""
      ]
     },
     "metadata": {},
     "output_type": "display_data"
    },
    {
     "data": {
      "text/html": [
       "'COST'"
      ],
      "text/latex": [
       "'COST'"
      ],
      "text/markdown": [
       "'COST'"
      ],
      "text/plain": [
       "[1] \"COST\""
      ]
     },
     "metadata": {},
     "output_type": "display_data"
    },
    {
     "data": {
      "text/html": [
       "'BAC'"
      ],
      "text/latex": [
       "'BAC'"
      ],
      "text/markdown": [
       "'BAC'"
      ],
      "text/plain": [
       "[1] \"BAC\""
      ]
     },
     "metadata": {},
     "output_type": "display_data"
    }
   ],
   "source": [
    "AAPL.Adjusted.price <- AAPL$AAPL.Adjusted\n",
    "# head(APPL.Adjusted.price)\n",
    "invest.asset <- c('MCD','M','COST','BAC')\n",
    "# for (s in invest.asset){\n",
    "#     getSymbols(s,from = '2010-01-01')\n",
    "# }\n",
    "# MCD.Adjusted.price <- MCD$MCD.Adjusted\n",
    "# head(MCD.ADjusted.price)\n",
    "getSymbols('MCD',from = '2010-01-01')\n",
    "MCD.Adjusted.price <- MCD$MCD.Adjusted\n",
    "\n",
    "getSymbols('M',from = '2010-01-01')\n",
    "M.Adjusted.price <- M$M.Adjusted\n",
    "\n",
    "getSymbols('COST',from = '2010-01-01')\n",
    "COST.Adjusted.price <- COST$COST.Adjusted\n",
    "\n",
    "getSymbols('BAC',from = '2010-01-01')\n",
    "BAC.Adjusted.price <- BAC$BAC.Adjusted\n"
   ]
  },
  {
   "cell_type": "markdown",
   "metadata": {},
   "source": [
    "We still need to see the summary of those set of data before we go stright to visualize those"
   ]
  },
  {
   "cell_type": "code",
   "execution_count": 11,
   "metadata": {},
   "outputs": [
    {
     "data": {
      "text/plain": [
       "     Index               MCD.Open         MCD.High         MCD.Low      \n",
       " Min.   :2010-01-04   Min.   : 61.25   Min.   : 62.34   Min.   : 61.06  \n",
       " 1st Qu.:2012-06-07   1st Qu.: 91.42   1st Qu.: 91.91   1st Qu.: 90.81  \n",
       " Median :2014-11-12   Median : 98.70   Median : 99.27   Median : 98.16  \n",
       " Mean   :2014-11-14   Mean   :115.23   Mean   :115.97   Mean   :114.51  \n",
       " 3rd Qu.:2017-04-20   3rd Qu.:133.32   3rd Qu.:133.77   3rd Qu.:133.02  \n",
       " Max.   :2019-09-26   Max.   :220.54   Max.   :221.93   Max.   :219.45  \n",
       "   MCD.Close        MCD.Volume        MCD.Adjusted   \n",
       " Min.   : 61.45   Min.   :  963200   Min.   : 45.51  \n",
       " 1st Qu.: 91.39   1st Qu.: 3589225   1st Qu.: 73.52  \n",
       " Median : 98.75   Median : 4745650   Median : 84.07  \n",
       " Mean   :115.25   Mean   : 5297057   Mean   :102.86  \n",
       " 3rd Qu.:133.38   3rd Qu.: 6332450   3rd Qu.:125.54  \n",
       " Max.   :221.15   Max.   :36471600   Max.   :220.03  "
      ]
     },
     "metadata": {},
     "output_type": "display_data"
    },
    {
     "data": {
      "text/plain": [
       "     Index                M.Open          M.High          M.Low      \n",
       " Min.   :2010-01-04   Min.   :14.25   Min.   :14.65   Min.   :14.20  \n",
       " 1st Qu.:2012-06-07   1st Qu.:24.94   1st Qu.:25.35   1st Qu.:24.56  \n",
       " Median :2014-11-12   Median :35.48   Median :35.90   Median :34.94  \n",
       " Mean   :2014-11-14   Mean   :37.15   Mean   :37.61   Mean   :36.68  \n",
       " 3rd Qu.:2017-04-20   3rd Qu.:44.62   3rd Qu.:45.09   3rd Qu.:44.19  \n",
       " Max.   :2019-09-26   Max.   :72.59   Max.   :73.61   Max.   :72.06  \n",
       "    M.Close         M.Volume          M.Adjusted   \n",
       " Min.   :14.30   Min.   : 1421900   Min.   :11.40  \n",
       " 1st Qu.:24.95   1st Qu.: 4393300   1st Qu.:20.99  \n",
       " Median :35.45   Median : 6338600   Median :29.06  \n",
       " Mean   :37.14   Mean   : 7466814   Mean   :30.10  \n",
       " 3rd Qu.:44.62   3rd Qu.: 9187650   3rd Qu.:36.11  \n",
       " Max.   :72.80   Max.   :65059000   Max.   :58.67  "
      ]
     },
     "metadata": {},
     "output_type": "display_data"
    },
    {
     "data": {
      "text/plain": [
       "     Index               BAC.Open        BAC.High        BAC.Low     \n",
       " Min.   :2010-01-04   Min.   : 5.11   Min.   : 5.22   Min.   : 4.92  \n",
       " 1st Qu.:2012-06-07   1st Qu.:13.02   1st Qu.:13.22   1st Qu.:12.89  \n",
       " Median :2014-11-12   Median :15.74   Median :15.93   Median :15.59  \n",
       " Mean   :2014-11-14   Mean   :17.52   Mean   :17.70   Mean   :17.33  \n",
       " 3rd Qu.:2017-04-20   3rd Qu.:23.43   3rd Qu.:23.67   3rd Qu.:23.21  \n",
       " Max.   :2019-09-26   Max.   :32.97   Max.   :33.05   Max.   :32.64  \n",
       "   BAC.Close       BAC.Volume         BAC.Adjusted   \n",
       " Min.   : 4.99   Min.   : 14273600   Min.   : 4.544  \n",
       " 1st Qu.:13.02   1st Qu.: 65775825   1st Qu.:11.933  \n",
       " Median :15.75   Median : 96727400   Median :14.585  \n",
       " Mean   :17.51   Mean   :121774591   Mean   :16.518  \n",
       " 3rd Qu.:23.41   3rd Qu.:149790350   3rd Qu.:22.400  \n",
       " Max.   :32.84   Max.   :859643400   Max.   :31.821  "
      ]
     },
     "metadata": {},
     "output_type": "display_data"
    },
    {
     "data": {
      "text/plain": [
       "     Index              COST.Open        COST.High         COST.Low     \n",
       " Min.   :2010-01-04   Min.   : 53.76   Min.   : 54.33   Min.   : 53.41  \n",
       " 1st Qu.:2012-06-07   1st Qu.: 90.75   1st Qu.: 91.34   1st Qu.: 90.10  \n",
       " Median :2014-11-12   Median :136.54   Median :137.51   Median :135.60  \n",
       " Mean   :2014-11-14   Mean   :136.27   Mean   :137.26   Mean   :135.29  \n",
       " 3rd Qu.:2017-04-20   3rd Qu.:164.55   3rd Qu.:165.62   3rd Qu.:163.78  \n",
       " Max.   :2019-09-26   Max.   :304.50   Max.   :307.34   Max.   :298.29  \n",
       "   COST.Close      COST.Volume       COST.Adjusted   \n",
       " Min.   : 53.61   Min.   :  491000   Min.   : 41.98  \n",
       " 1st Qu.: 90.68   1st Qu.: 1635975   1st Qu.: 72.57  \n",
       " Median :136.50   Median : 2141500   Median :121.34  \n",
       " Mean   :136.33   Mean   : 2470934   Mean   :125.09  \n",
       " 3rd Qu.:164.52   3rd Qu.: 2849675   3rd Qu.:155.87  \n",
       " Max.   :303.76   Max.   :24233000   Max.   :303.76  "
      ]
     },
     "metadata": {},
     "output_type": "display_data"
    }
   ],
   "source": [
    "summary(MCD)\n",
    "summary(M)\n",
    "summary(BAC)\n",
    "summary(COST)"
   ]
  },
  {
   "cell_type": "code",
   "execution_count": null,
   "metadata": {},
   "outputs": [],
   "source": []
  },
  {
   "cell_type": "code",
   "execution_count": 31,
   "metadata": {},
   "outputs": [],
   "source": [
    "AAPL_MCD <- data.frame(AAPL.Adjusted.price,MCD.Adjusted.price)\n",
    "AAPL_M <- data.frame(AAPL.Adjusted.price,M.Adjusted.price)\n",
    "AAPL_COST <- data.frame(AAPL.Adjusted.price,COST.Adjusted.price)\n",
    "AAPL_BAC <- data.frame(AAPL.Adjusted.price,BAC.Adjusted.price)"
   ]
  },
  {
   "cell_type": "code",
   "execution_count": 34,
   "metadata": {},
   "outputs": [
    {
     "data": {
      "image/png": "[encoded data removed]",
      "text/plain": [
       "plot without title"
      ]
     },
     "metadata": {},
     "output_type": "display_data"
    }
   ],
   "source": [
    "par(mfrow = c(1,4))\n",
    "plot(AAPL_MCD)\n",
    "plot(AAPL_M)\n",
    "plot(AAPL_COST)\n",
    "plot(AAPL_BAC)\n"
   ]
  },
  {
   "cell_type": "markdown",
   "metadata": {},
   "source": [
    "### How about using trading volumn for indicator?\n",
    "- initially, importing the data with those trading volumn."
   ]
  },
  {
   "cell_type": "code",
   "execution_count": 17,
   "metadata": {},
   "outputs": [],
   "source": [
    "AAPL.vol <- AAPL$AAPL.Volume\n",
    "MCD.vol <- MCD$MCD.Volume\n",
    "M.vol <- MCD$M.Volume\n",
    "BAC.vol <- BAC$BAC.Volume\n",
    "COST.vol <- COST$COST.Volume"
   ]
  },
  {
   "cell_type": "code",
   "execution_count": 19,
   "metadata": {},
   "outputs": [],
   "source": [
    "# AAPL_M.vol <- data.frame(AAPL.vol,M.vol)\n",
    "AAPL_MCD.vol <- data.frame(AAPL.vol,MCD.vol)\n",
    "AAPL_BAC.vol <- data.frame(AAPL.vol,BAC.vol)\n",
    "AAPL_COST.vol <- data.frame(AAPL.vol,COST.vol)"
   ]
  },
  {
   "cell_type": "code",
   "execution_count": 21,
   "metadata": {},
   "outputs": [
    {
     "data": {
      "image/png": "[encoded data removed]",
      "text/plain": [
       "plot without title"
      ]
     },
     "metadata": {},
     "output_type": "display_data"
    },
    {
     "data": {
      "image/png": "[encoded data removed]",
      "text/plain": [
       "plot without title"
      ]
     },
     "metadata": {},
     "output_type": "display_data"
    },
    {
     "data": {
      "image/png": "[encoded data removed]",
      "text/plain": [
       "plot without title"
      ]
     },
     "metadata": {},
     "output_type": "display_data"
    }
   ],
   "source": [
    "options(repr.plot.width = 6, repr.plot.height = 4)\n",
    "plot(AAPL_MCD.vol)\n",
    "# plot(AAPL_M.vol)\n",
    "plot(AAPL_COST.vol)\n",
    "plot(AAPL_BAC.vol)"
   ]
  },
  {
   "cell_type": "markdown",
   "metadata": {},
   "source": [
    "### 2. Normalization"
   ]
  },
  {
   "cell_type": "code",
   "execution_count": null,
   "metadata": {},
   "outputs": [],
   "source": []
  }
 ],
 "metadata": {
  "kernelspec": {
   "display_name": "R",
   "language": "R",
   "name": "ir"
  },
  "language_info": {
   "codemirror_mode": "r",
   "file_extension": ".r",
   "mimetype": "text/x-r-source",
   "name": "R",
   "pygments_lexer": "r",
   "version": "3.4.3"
  }
 },
 "nbformat": 4,
 "nbformat_minor": 2
}
