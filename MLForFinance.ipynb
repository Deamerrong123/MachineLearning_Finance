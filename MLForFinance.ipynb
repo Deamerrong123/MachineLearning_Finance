{
 "cells": [
  {
   "cell_type": "markdown",
   "metadata": {},
   "source": [
    "## Unsupervised Learning\n",
    "Our goal is to construct a unsupervised model for indecating two independent stocks; the indicator would be including price or volume.\n",
    "<tb>\n"
   ]
  },
  {
   "cell_type": "markdown",
   "metadata": {},
   "source": [
    "### 1. Importing Data\n",
    "- 'quantmod' is quantitative financial Modeling and trading frameword for R\n",
    "- We will use 'quantmod' package and getSymbols(##, from='yyyy-mm-dd') for importing data from google finance.\n",
    "- Initially, we are going to download the historical data of Apple.inc's from 2010-01-01.\n",
    "\n",
    "\n"
   ]
  },
  {
   "cell_type": "code",
   "execution_count": 34,
   "metadata": {
    "scrolled": true
   },
   "outputs": [
    {
     "data": {
      "text/html": [
       "'AAPL'"
      ],
      "text/latex": [
       "'AAPL'"
      ],
      "text/markdown": [
       "'AAPL'"
      ],
      "text/plain": [
       "[1] \"AAPL\""
      ]
     },
     "metadata": {},
     "output_type": "display_data"
    }
   ],
   "source": [
    "library(quantmod)\n",
    "getSymbols(\"AAPL\", from=\"2010-01-04\",to = \"2019-09-04\")"
   ]
  },
  {
   "cell_type": "markdown",
   "metadata": {},
   "source": [
    "let's take a look and understand about the data."
   ]
  },
  {
   "cell_type": "code",
   "execution_count": 3,
   "metadata": {},
   "outputs": [
    {
     "data": {
      "text/plain": [
       "     Index              AAPL.Open        AAPL.High         AAPL.Low     \n",
       " Min.   :2010-01-04   Min.   : 27.48   Min.   : 28.00   Min.   : 27.18  \n",
       " 1st Qu.:2012-04-02   1st Qu.: 61.66   1st Qu.: 62.21   1st Qu.: 61.09  \n",
       " Median :2014-07-05   Median : 94.66   Median : 95.61   Median : 93.67  \n",
       " Mean   :2014-07-03   Mean   : 99.51   Mean   :100.38   Mean   : 98.57  \n",
       " 3rd Qu.:2016-10-02   3rd Qu.:126.06   3rd Qu.:127.05   3rd Qu.:125.02  \n",
       " Max.   :2019-01-03   Max.   :230.78   Max.   :233.47   Max.   :229.78  \n",
       "   AAPL.Close      AAPL.Volume        AAPL.Adjusted   \n",
       " Min.   : 27.44   Min.   : 11475900   Min.   : 23.94  \n",
       " 1st Qu.: 61.50   1st Qu.: 34425475   1st Qu.: 54.63  \n",
       " Median : 94.61   Median : 63400250   Median : 86.52  \n",
       " Mean   : 99.49   Mean   : 80100923   Mean   : 92.93  \n",
       " 3rd Qu.:125.97   3rd Qu.:107657025   3rd Qu.:116.84  \n",
       " Max.   :232.07   Max.   :470249500   Max.   :228.52  "
      ]
     },
     "metadata": {},
     "output_type": "display_data"
    }
   ],
   "source": [
    "summary(AAPL)"
   ]
  },
  {
   "cell_type": "markdown",
   "metadata": {},
   "source": [
    "- As we see, we will get use of AAPL.Adjusted, the adjusted historical pricing from 2010-01-04. And AAPL.Volume will be used for later investigation.\n",
    "\n",
    "\n",
    "- Then, we need to consider some other stocks that they might not share so similar feature in their business.\n",
    "- To see the relation between AAPL's history price and some other not so correlated stocks' history price, i.e. _MCD_, _M_,_COST_,_BAC_.\n",
    "- note we just want to see those data start from 2010 to recents\n",
    "- note we need to awaked with using adjusted pricing."
   ]
  },
  {
   "cell_type": "code",
   "execution_count": 40,
   "metadata": {},
   "outputs": [
    {
     "data": {
      "text/html": [
       "'MCD'"
      ],
      "text/latex": [
       "'MCD'"
      ],
      "text/markdown": [
       "'MCD'"
      ],
      "text/plain": [
       "[1] \"MCD\""
      ]
     },
     "metadata": {},
     "output_type": "display_data"
    },
    {
     "data": {
      "text/html": [
       "'M'"
      ],
      "text/latex": [
       "'M'"
      ],
      "text/markdown": [
       "'M'"
      ],
      "text/plain": [
       "[1] \"M\""
      ]
     },
     "metadata": {},
     "output_type": "display_data"
    },
    {
     "data": {
      "text/html": [
       "'COST'"
      ],
      "text/latex": [
       "'COST'"
      ],
      "text/markdown": [
       "'COST'"
      ],
      "text/plain": [
       "[1] \"COST\""
      ]
     },
     "metadata": {},
     "output_type": "display_data"
    },
    {
     "data": {
      "text/html": [
       "'BAC'"
      ],
      "text/latex": [
       "'BAC'"
      ],
      "text/markdown": [
       "'BAC'"
      ],
      "text/plain": [
       "[1] \"BAC\""
      ]
     },
     "metadata": {},
     "output_type": "display_data"
    }
   ],
   "source": [
    "AAPL.Adjusted.price <- AAPL$AAPL.Adjusted\n",
    "# head(APPL.Adjusted.price)\n",
    "invest.asset <- c('MCD','M','COST','BAC')\n",
    "# for (s in invest.asset){\n",
    "#     getSymbols(s,from = '2010-01-01')\n",
    "# }\n",
    "# MCD.Adjusted.price <- MCD$MCD.Adjusted\n",
    "# head(MCD.ADjusted.price)\n",
    "getSymbols('MCD',from = '2010-01-01',to = \"2019-09-04\")\n",
    "MCD.Adjusted.price <- MCD$MCD.Adjusted\n",
    "\n",
    "getSymbols('M',from = '2010-01-01',to = \"2019-09-04\")\n",
    "M.Adjusted.price <- M$M.Adjusted\n",
    "\n",
    "getSymbols('COST',from = '2010-01-01',to = \"2019-09-04\")\n",
    "COST.Adjusted.price <- COST$COST.Adjusted\n",
    "\n",
    "getSymbols('BAC',from = '2010-01-01',to = \"2019-09-04\")\n",
    "BAC.Adjusted.price <- BAC$BAC.Adjusted\n"
   ]
  },
  {
   "cell_type": "code",
   "execution_count": 38,
   "metadata": {},
   "outputs": [
    {
     "data": {
      "text/html": [
       "<ol class=list-inline>\n",
       "\t<li>2433</li>\n",
       "\t<li>6</li>\n",
       "</ol>\n"
      ],
      "text/latex": [
       "\\begin{enumerate*}\n",
       "\\item 2433\n",
       "\\item 6\n",
       "\\end{enumerate*}\n"
      ],
      "text/markdown": [
       "1. 2433\n",
       "2. 6\n",
       "\n",
       "\n"
      ],
      "text/plain": [
       "[1] 2433    6"
      ]
     },
     "metadata": {},
     "output_type": "display_data"
    },
    {
     "data": {
      "text/html": [
       "<ol class=list-inline>\n",
       "\t<li>2454</li>\n",
       "\t<li>6</li>\n",
       "</ol>\n"
      ],
      "text/latex": [
       "\\begin{enumerate*}\n",
       "\\item 2454\n",
       "\\item 6\n",
       "\\end{enumerate*}\n"
      ],
      "text/markdown": [
       "1. 2454\n",
       "2. 6\n",
       "\n",
       "\n"
      ],
      "text/plain": [
       "[1] 2454    6"
      ]
     },
     "metadata": {},
     "output_type": "display_data"
    }
   ],
   "source": [
    "dim(AAPL)\n",
    "dim(M)"
   ]
  },
  {
   "cell_type": "markdown",
   "metadata": {},
   "source": [
    "We still need to see the summary of those set of data before we go stright to visualize those"
   ]
  },
  {
   "cell_type": "code",
   "execution_count": 36,
   "metadata": {},
   "outputs": [
    {
     "ename": "ERROR",
     "evalue": "Error in data.frame(AAPL.Adjusted.price, BAC.Adjusted.price): arguments imply differing number of rows: 2433, 2454\n",
     "output_type": "error",
     "traceback": [
      "Error in data.frame(AAPL.Adjusted.price, BAC.Adjusted.price): arguments imply differing number of rows: 2433, 2454\nTraceback:\n",
      "1. data.frame(AAPL.Adjusted.price, BAC.Adjusted.price)",
      "2. stop(gettextf(\"arguments imply differing number of rows: %s\", \n .     paste(unique(nrows), collapse = \", \")), domain = NA)"
     ]
    }
   ],
   "source": [
    "# AAPL_MCD <- data.frame(AAPL.Adjusted.price,MCD.Adjusted.price)\n",
    "# AAPL_M <- data.frame(AAPL.Adjusted.price,M.Adjusted.price)\n",
    "# AAPL_COST <- data.frame(AAPL.Adjusted.price,COST.Adjusted.price)\n",
    "AAPL_BAC <- data.frame(AAPL.Adjusted.price,BAC.Adjusted.price)"
   ]
  },
  {
   "cell_type": "code",
   "execution_count": 34,
   "metadata": {},
   "outputs": [
    {
     "data": {
      "image/png": "[encoded data removed]",
      "text/plain": [
       "plot without title"
      ]
     },
     "metadata": {},
     "output_type": "display_data"
    }
   ],
   "source": [
    "par(mfrow = c(1,4))\n",
    "plot(AAPL_MCD)\n",
    "plot(AAPL_M)\n",
    "plot(AAPL_COST)\n",
    "plot(AAPL_BAC)\n"
   ]
  },
  {
   "cell_type": "markdown",
   "metadata": {},
   "source": [
    "### How about using trading volumn for indicator?\n",
    "- initially, importing the data with those trading volumn."
   ]
  },
  {
   "cell_type": "code",
   "execution_count": 7,
   "metadata": {},
   "outputs": [],
   "source": [
    "AAPL.vol <- AAPL$AAPL.Volume\n",
    "MCD.vol <- MCD$MCD.Volume\n",
    "M.vol <- MCD$M.Volume\n",
    "BAC.vol <- BAC$BAC.Volume\n",
    "COST.vol <- COST$COST.Volume"
   ]
  },
  {
   "cell_type": "code",
   "execution_count": 8,
   "metadata": {},
   "outputs": [
    {
     "ename": "ERROR",
     "evalue": "Error in data.frame(AAPL.vol, MCD.vol): arguments imply differing number of rows: 2266, 2454\n",
     "output_type": "error",
     "traceback": [
      "Error in data.frame(AAPL.vol, MCD.vol): arguments imply differing number of rows: 2266, 2454\nTraceback:\n",
      "1. data.frame(AAPL.vol, MCD.vol)",
      "2. stop(gettextf(\"arguments imply differing number of rows: %s\", \n .     paste(unique(nrows), collapse = \", \")), domain = NA)"
     ]
    }
   ],
   "source": [
    "# AAPL_M.vol <- data.frame(AAPL.vol,M.vol)\n",
    "AAPL_MCD.vol <- data.frame(AAPL.vol,MCD.vol)\n",
    "AAPL_BAC.vol <- data.frame(AAPL.vol,BAC.vol)\n",
    "AAPL_COST.vol <- data.frame(AAPL.vol,COST.vol)"
   ]
  },
  {
   "cell_type": "code",
   "execution_count": 9,
   "metadata": {},
   "outputs": [
    {
     "ename": "ERROR",
     "evalue": "Error in plot(AAPL_MCD.vol): object 'AAPL_MCD.vol' not found\n",
     "output_type": "error",
     "traceback": [
      "Error in plot(AAPL_MCD.vol): object 'AAPL_MCD.vol' not found\nTraceback:\n",
      "1. plot(AAPL_MCD.vol)"
     ]
    }
   ],
   "source": [
    "options(repr.plot.width = 6, repr.plot.height = 4)\n",
    "plot(AAPL_MCD.vol)\n",
    "# plot(AAPL_M.vol)\n",
    "plot(AAPL_COST.vol)\n",
    "plot(AAPL_BAC.vol)"
   ]
  },
  {
   "cell_type": "markdown",
   "metadata": {},
   "source": [
    "### 2. Normalization\n",
    "\n",
    "In term of understanding, the scalling of the data set does not unveil enough for doing Clustering. It comes that we need to normalizate them. There are two type of normalization:\n",
    "\n",
    "- **Normailization** is the adjustment of each individually, while\n",
    "- Feature normalization indicates that adjust each feature in the same way acorss all examples.\n",
    "\n",
    "When we are normalize, we actually adjust the range of all features, So that the price between stocks with larger ranges will not be over-emphasised.\n",
    "\n",
    "First, we should making our own *Normalized()* function : "
   ]
  },
  {
   "cell_type": "code",
   "execution_count": 16,
   "metadata": {},
   "outputs": [],
   "source": [
    "normalize <- function(x){\n",
    "    num <- x - min(x)\n",
    "    denorm <- max(x) - min(x)\n",
    "    return (num/denorm)\n",
    "}"
   ]
  },
  {
   "cell_type": "code",
   "execution_count": 29,
   "metadata": {},
   "outputs": [
    {
     "data": {
      "text/html": [
       "<ol class=list-inline>\n",
       "\t<li>2266</li>\n",
       "\t<li>1</li>\n",
       "</ol>\n"
      ],
      "text/latex": [
       "\\begin{enumerate*}\n",
       "\\item 2266\n",
       "\\item 1\n",
       "\\end{enumerate*}\n"
      ],
      "text/markdown": [
       "1. 2266\n",
       "2. 1\n",
       "\n",
       "\n"
      ],
      "text/plain": [
       "[1] 2266    1"
      ]
     },
     "metadata": {},
     "output_type": "display_data"
    },
    {
     "data": {
      "text/html": [
       "<ol class=list-inline>\n",
       "\t<li>2454</li>\n",
       "\t<li>1</li>\n",
       "</ol>\n"
      ],
      "text/latex": [
       "\\begin{enumerate*}\n",
       "\\item 2454\n",
       "\\item 1\n",
       "\\end{enumerate*}\n"
      ],
      "text/markdown": [
       "1. 2454\n",
       "2. 1\n",
       "\n",
       "\n"
      ],
      "text/plain": [
       "[1] 2454    1"
      ]
     },
     "metadata": {},
     "output_type": "display_data"
    }
   ],
   "source": [
    "## Normalize the AAPL's Adjusted price\n",
    "AAPL.Adjust.norm.price <- normalize(AAPL.Adjusted.price)\n",
    "## Normalize the M's Adjusted price\n",
    "M.Adjusted.norm.price <- normalize(M.Adjusted.price)\n",
    "## as.data.frame\n",
    "# summary(AAPL.Adjust.norm.price)\n",
    "dim(AAPL.Adjust.norm.price)\n",
    "dim(M.Adjusted.norm.price)\n",
    "# AAPL_M.norm.adjusted.price <- data.frame(AAPL.Adjust.norm.price,M.Adjusted.norm.price)"
   ]
  },
  {
   "cell_type": "code",
   "execution_count": null,
   "metadata": {},
   "outputs": [],
   "source": []
  }
 ],
 "metadata": {
  "kernelspec": {
   "display_name": "R",
   "language": "R",
   "name": "ir"
  },
  "language_info": {
   "codemirror_mode": "r",
   "file_extension": ".r",
   "mimetype": "text/x-r-source",
   "name": "R",
   "pygments_lexer": "r",
   "version": "3.4.3"
  }
 },
 "nbformat": 4,
 "nbformat_minor": 2
}
